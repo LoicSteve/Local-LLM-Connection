{
 "cells": [
  {
   "cell_type": "markdown",
   "metadata": {},
   "source": [
    "### Connect to a Large Language Model locally using Python\n",
    "\n",
    "Use this Jupyter notebook to connect to a large language model locally using Python or also connect to a valid OpenAI-compatible API endpoint."
   ]
  },
  {
   "cell_type": "markdown",
   "metadata": {},
   "source": [
    "### Connect to an LLM locally with Llamafile\n",
    "\n",
    "Use the following cell if you are connecting to a large language model locally using the llamafile package. Take note of the base_url and how the api_key is not required."
   ]
  },
  {
   "cell_type": "code",
   "execution_count": null,
   "metadata": {},
   "outputs": [],
   "source": [
    "# Llamafile\n",
    "# Now time to connect to the local large language model\n",
    "from openai import OpenAI\n",
    "client = OpenAI(\n",
    "    base_url=\"http://127.0.0.1:8080/v1\", # \"http://<Your api-server IP>:port\"\n",
    "    api_key = \"sk-no-key-required\"\n",
    ")"
   ]
  },
  {
   "cell_type": "markdown",
   "metadata": {},
   "source": [
    "### Connect to an LLM using Ollama\n",
    "\n",
    "Use the following cell if you are connecting to a large language model using the ollama package. Take note of the base_url and how the api_key is also not used. Be mindful that the model name changes as well. In this case, we are using phi, a supported model from Ollama###"
   ]
  },
  {
   "cell_type": "code",
   "execution_count": null,
   "metadata": {},
   "outputs": [],
   "source": [
    "# OLLAMA\n",
    "from openai import OpenAI\n",
    "client = OpenAI(\n",
    "    base_url=\"http://localhost:11434/v1\",\n",
    "    api_key = \"sk-no-key-required\"\n",
    ")"
   ]
  },
  {
   "cell_type": "code",
   "execution_count": null,
   "metadata": {},
   "outputs": [],
   "source": [
    "content = \"\"\"\n",
    "I have the following CSV data:\n",
    "\n",
    "name,region,variety,rating,notes\n",
    "3 Rings Reserve Shiraz 2004,\"Barossa Valley, Barossa, South Australia, Australia\",Red Wine,96.0,\"Vintage Comments : Classic Barossa vintage conditions. An average wet Spring followed by extreme heat in early February. Occasional rainfall events kept the vines in good balance up to harvest in late March 2004. Very good quality coupled with good average yields. More than 30 months in wood followed by six months tank maturation of the blend prior to bottling, July 2007. \"\n",
    "Abreu Vineyards Cappella 2007,\"Napa Valley, California\",Red Wine,96.0,\"Cappella is a proprietary blend of two clones of Cabernet Sauvignon with Cabernet Franc, Petit Verdot and Merlot. The gravelly soil at Cappella produces fruit that is very elegant in structure. The resulting wine exhibits beautiful purity of fruit with fine grained and lengthy tannins. \"\n",
    "Abreu Vineyards Cappella 2010,\"Napa Valley, California\",Red Wine,98.0,\"Cappella is one of the oldest vineyard sites in St. Helena. Six acres that sit alongside a Catholic cemetery on the west side of town, it was first planted in 1869. In the 1980s the church asked David to tear out the old vines, then he watched as the land lay fallow for close to two decades. When he finally got the chance to replant, he jumped. He'd tasted fruit from Cappella in the 70s. He knew what kind of wine it could make. But that first replant was ill-fated thanks to diseased rootstock, and once again he was ripping out vines. “It took us six years before we had a crop. We could have ignored it, pulled the vines out one by one as they collapsed. But then we'd have all these different ripening patterns, which would impact consistency. It was an easy decision.”\"\n",
    "\n",
    "I would like you to generate synthetic data based on this input. Produce me 10 more examples of data formatted for CSVs to augment datasets.\"\"\"\n",
    "\n",
    "# Generate some output\n",
    "completion = client.chat.completions.create(\n",
    "    model=\"LLaMA_CPP\",\n",
    "    messages=[\n",
    "        {\"role\": \"system\", \"content\": \"You are a specialist in generating synthetic data based on inputs. You provide output formatted for CSVs to augment datasets.\"},\n",
    "        {\"role\": \"user\", \"content\": content}\n",
    "    ]\n",
    ")\n",
    "print(completion.choices[0].message.content)"
   ]
  },
  {
   "cell_type": "code",
   "execution_count": null,
   "metadata": {},
   "outputs": [],
   "source": [
    "content = \"\"\"\n",
    "I have the following CSV data:\n",
    "\n",
    "name,region,variety,rating,notes\n",
    "3 Rings Reserve Shiraz 2004,\"Barossa Valley, Barossa, South Australia, Australia\",Red Wine,96.0,\"Vintage Comments : Classic Barossa vintage conditions. An average wet Spring followed by extreme heat in early February. Occasional rainfall events kept the vines in good balance up to harvest in late March 2004. Very good quality coupled with good average yields. More than 30 months in wood followed by six months tank maturation of the blend prior to bottling, July 2007. \"\n",
    "Abreu Vineyards Cappella 2007,\"Napa Valley, California\",Red Wine,96.0,\"Cappella is a proprietary blend of two clones of Cabernet Sauvignon with Cabernet Franc, Petit Verdot and Merlot. The gravelly soil at Cappella produces fruit that is very elegant in structure. The resulting wine exhibits beautiful purity of fruit with fine grained and lengthy tannins. \"\n",
    "Abreu Vineyards Cappella 2010,\"Napa Valley, California\",Red Wine,98.0,\"Cappella is one of the oldest vineyard sites in St. Helena. Six acres that sit alongside a Catholic cemetery on the west side of town, it was first planted in 1869. In the 1980s the church asked David to tear out the old vines, then he watched as the land lay fallow for close to two decades. When he finally got the chance to replant, he jumped. He'd tasted fruit from Cappella in the 70s. He knew what kind of wine it could make. But that first replant was ill-fated thanks to diseased rootstock, and once again he was ripping out vines. “It took us six years before we had a crop. We could have ignored it, pulled the vines out one by one as they collapsed. But then we'd have all these different ripening patterns, which would impact consistency. It was an easy decision.”\"\n",
    "\n",
    "I would like you to generate synthetic data based on this input. Produce me 10 more examples of data formatted for CSVs to augment datasets.\"\"\"\n",
    "\n",
    "system = \"\"\"Act as an API for generating synthetic data based on inputs. Provide output formatted for CSVs to augment datasets. Do not provide any other feedback, input, questions, or\n",
    "any other kind of text that will not be valid CSV based on the input received. When you reply, there is no need to provide the headers, just the data.\"\"\"\n",
    "# Generate some output\n",
    "completion = client.chat.completions.create(\n",
    "    model=\"LLaMA_CPP\",\n",
    "    messages=[\n",
    "        {\"role\": \"system\", \"content\": system},\n",
    "        {\"role\": \"user\", \"content\": content}\n",
    "    ]\n",
    ")\n",
    "print(completion.choices[0].message.content)"
   ]
  },
  {
   "cell_type": "markdown",
   "metadata": {},
   "source": []
  },
  {
   "cell_type": "markdown",
   "metadata": {},
   "source": []
  }
 ],
 "metadata": {
  "kernelspec": {
   "display_name": "local_llm",
   "language": "python",
   "name": "python3"
  },
  "language_info": {
   "codemirror_mode": {
    "name": "ipython",
    "version": 3
   },
   "file_extension": ".py",
   "mimetype": "text/x-python",
   "name": "python",
   "nbconvert_exporter": "python",
   "pygments_lexer": "ipython3",
   "version": "3.12.4"
  }
 },
 "nbformat": 4,
 "nbformat_minor": 2
}
